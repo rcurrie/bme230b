{
 "cells": [
  {
   "cell_type": "markdown",
   "metadata": {},
   "source": [
    "## Hello Machine Learning\n",
    "\n",
    "Train a simple logistic regression model to predict tumor vs. normal from gene expression data"
   ]
  },
  {
   "cell_type": "code",
   "execution_count": 1,
   "metadata": {},
   "outputs": [],
   "source": [
    "import os\n",
    "import requests\n",
    "import pandas as pd"
   ]
  },
  {
   "cell_type": "code",
   "execution_count": null,
   "metadata": {},
   "outputs": [],
   "source": [
    "%%time\n",
    "X = pd.read_hdf(\"/scratch/tcga_target_gtex.h5\", \"expression\")\n",
    "X.head()"
   ]
  },
  {
   "cell_type": "code",
   "execution_count": 2,
   "metadata": {},
   "outputs": [
    {
     "data": {
      "text/html": [
       "<div>\n",
       "<style scoped>\n",
       "    .dataframe tbody tr th:only-of-type {\n",
       "        vertical-align: middle;\n",
       "    }\n",
       "\n",
       "    .dataframe tbody tr th {\n",
       "        vertical-align: top;\n",
       "    }\n",
       "\n",
       "    .dataframe thead th {\n",
       "        text-align: right;\n",
       "    }\n",
       "</style>\n",
       "<table border=\"1\" class=\"dataframe\">\n",
       "  <thead>\n",
       "    <tr style=\"text-align: right;\">\n",
       "      <th></th>\n",
       "      <th>category</th>\n",
       "      <th>disease</th>\n",
       "      <th>primary_site</th>\n",
       "      <th>sample_type</th>\n",
       "      <th>gender</th>\n",
       "      <th>study</th>\n",
       "      <th>tumor_normal</th>\n",
       "    </tr>\n",
       "    <tr>\n",
       "      <th>id</th>\n",
       "      <th></th>\n",
       "      <th></th>\n",
       "      <th></th>\n",
       "      <th></th>\n",
       "      <th></th>\n",
       "      <th></th>\n",
       "      <th></th>\n",
       "    </tr>\n",
       "  </thead>\n",
       "  <tbody>\n",
       "    <tr>\n",
       "      <th>GTEX-1117F-0226-SM-5GZZ7</th>\n",
       "      <td>Adipose - Subcutaneous</td>\n",
       "      <td>Adipose - Subcutaneous</td>\n",
       "      <td>Adipose Tissue</td>\n",
       "      <td>Normal Tissue</td>\n",
       "      <td>Female</td>\n",
       "      <td>GTEX</td>\n",
       "      <td>Normal</td>\n",
       "    </tr>\n",
       "    <tr>\n",
       "      <th>GTEX-1117F-0426-SM-5EGHI</th>\n",
       "      <td>Muscle - Skeletal</td>\n",
       "      <td>Muscle - Skeletal</td>\n",
       "      <td>Muscle</td>\n",
       "      <td>Normal Tissue</td>\n",
       "      <td>Female</td>\n",
       "      <td>GTEX</td>\n",
       "      <td>Normal</td>\n",
       "    </tr>\n",
       "    <tr>\n",
       "      <th>GTEX-1117F-0526-SM-5EGHJ</th>\n",
       "      <td>Artery - Tibial</td>\n",
       "      <td>Artery - Tibial</td>\n",
       "      <td>Blood Vessel</td>\n",
       "      <td>Normal Tissue</td>\n",
       "      <td>Female</td>\n",
       "      <td>GTEX</td>\n",
       "      <td>Normal</td>\n",
       "    </tr>\n",
       "    <tr>\n",
       "      <th>GTEX-1117F-0626-SM-5N9CS</th>\n",
       "      <td>Artery - Coronary</td>\n",
       "      <td>Artery - Coronary</td>\n",
       "      <td>Blood Vessel</td>\n",
       "      <td>Normal Tissue</td>\n",
       "      <td>Female</td>\n",
       "      <td>GTEX</td>\n",
       "      <td>Normal</td>\n",
       "    </tr>\n",
       "    <tr>\n",
       "      <th>GTEX-1117F-0726-SM-5GIEN</th>\n",
       "      <td>Heart - Atrial Appendage</td>\n",
       "      <td>Heart - Atrial Appendage</td>\n",
       "      <td>Heart</td>\n",
       "      <td>Normal Tissue</td>\n",
       "      <td>Female</td>\n",
       "      <td>GTEX</td>\n",
       "      <td>Normal</td>\n",
       "    </tr>\n",
       "  </tbody>\n",
       "</table>\n",
       "</div>"
      ],
      "text/plain": [
       "                                          category                   disease  \\\n",
       "id                                                                             \n",
       "GTEX-1117F-0226-SM-5GZZ7    Adipose - Subcutaneous    Adipose - Subcutaneous   \n",
       "GTEX-1117F-0426-SM-5EGHI         Muscle - Skeletal         Muscle - Skeletal   \n",
       "GTEX-1117F-0526-SM-5EGHJ           Artery - Tibial           Artery - Tibial   \n",
       "GTEX-1117F-0626-SM-5N9CS         Artery - Coronary         Artery - Coronary   \n",
       "GTEX-1117F-0726-SM-5GIEN  Heart - Atrial Appendage  Heart - Atrial Appendage   \n",
       "\n",
       "                            primary_site    sample_type  gender study  \\\n",
       "id                                                                      \n",
       "GTEX-1117F-0226-SM-5GZZ7  Adipose Tissue  Normal Tissue  Female  GTEX   \n",
       "GTEX-1117F-0426-SM-5EGHI          Muscle  Normal Tissue  Female  GTEX   \n",
       "GTEX-1117F-0526-SM-5EGHJ    Blood Vessel  Normal Tissue  Female  GTEX   \n",
       "GTEX-1117F-0626-SM-5N9CS    Blood Vessel  Normal Tissue  Female  GTEX   \n",
       "GTEX-1117F-0726-SM-5GIEN           Heart  Normal Tissue  Female  GTEX   \n",
       "\n",
       "                         tumor_normal  \n",
       "id                                     \n",
       "GTEX-1117F-0226-SM-5GZZ7       Normal  \n",
       "GTEX-1117F-0426-SM-5EGHI       Normal  \n",
       "GTEX-1117F-0526-SM-5EGHJ       Normal  \n",
       "GTEX-1117F-0626-SM-5N9CS       Normal  \n",
       "GTEX-1117F-0726-SM-5GIEN       Normal  "
      ]
     },
     "execution_count": 2,
     "metadata": {},
     "output_type": "execute_result"
    }
   ],
   "source": [
    "Y = pd.read_hdf(\"/scratch/tcga_target_gtex.h5\", \"labels\")\n",
    "Y.head()"
   ]
  }
 ],
 "metadata": {
  "kernelspec": {
   "display_name": "Python 3",
   "language": "python",
   "name": "python3"
  },
  "language_info": {
   "codemirror_mode": {
    "name": "ipython",
    "version": 3
   },
   "file_extension": ".py",
   "mimetype": "text/x-python",
   "name": "python",
   "nbconvert_exporter": "python",
   "pygments_lexer": "ipython3",
   "version": "3.6.3"
  }
 },
 "nbformat": 4,
 "nbformat_minor": 2
}
