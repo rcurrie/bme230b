{
 "cells": [
  {
   "cell_type": "markdown",
   "metadata": {},
   "source": [
    "## BME230B Final Project Scoring\n",
    "\n",
    "Final project scoring will be computed via the R script BME230_F1score_V2.R on your team's predictions against the expression file data/tcga_mutations_test_unlabeled.h5. This file comprises a holdout of 20% of TCGA expression vs. the 80% in your tcga_mutations_train.h5 file.\n",
    "\n",
    "Below is a simple example that rains a set of classifiers and then scores the results. For the competition you should predict the mutation status and disease for all the expression values in data/tcga_mutations_test_unlabeled.h5 and write out a predictions.tsv file that we will run through the R script to create a leaderboard."
   ]
  },
  {
   "cell_type": "code",
   "execution_count": 1,
   "metadata": {},
   "outputs": [
    {
     "name": "stdout",
     "output_type": "stream",
     "text": [
      "env: JOBLIB_TEMP_FOLDER=/tmp\n"
     ]
    }
   ],
   "source": [
    "import numpy as np\n",
    "import pandas as pd\n",
    "\n",
    "# So we can use multiple jobs/cores with sklearn\n",
    "# https://stackoverflow.com/questions/40115043/no-space-left-on-device-error-while-fitting-sklearn-model\n",
    "%env JOBLIB_TEMP_FOLDER=/tmp"
   ]
  },
  {
   "cell_type": "code",
   "execution_count": 2,
   "metadata": {},
   "outputs": [],
   "source": [
    "# Read in our training data and labels\n",
    "X = pd.read_hdf(\"data/tcga_mutation_train.h5\", \"expression\")\n",
    "Y = pd.read_hdf(\"data/tcga_mutation_train.h5\", \"labels\")"
   ]
  },
  {
   "cell_type": "code",
   "execution_count": 3,
   "metadata": {},
   "outputs": [],
   "source": [
    "# Prune expression to only KEGG pathway genes\n",
    "with open(\"data/c2.cp.kegg.v6.1.symbols.gmt\") as f:\n",
    "    genes_subset = list(set().union(*[line.strip().split(\"\\t\")[2:] for line in f.readlines()]))\n",
    "X_pruned = X.drop(labels=(set(X.columns) - set(genes_subset)), axis=1, errors=\"ignore\")\n",
    "\n",
    "# Encode disease\n",
    "from sklearn import preprocessing\n",
    "disease_encoder = preprocessing.LabelEncoder()\n",
    "disease_encoder.fit(Y[\"primary.disease.or.tissue\"])\n",
    "Y[\"disease_encoding\"] = disease_encoder.transform(Y[\"primary.disease.or.tissue\"])\n",
    "\n",
    "# Divide up into train and test\n",
    "import sklearn.model_selection\n",
    "X_train, X_test, Y_train, Y_test = sklearn.model_selection.train_test_split(\n",
    "    X_pruned, Y, test_size=0.20, random_state=42)"
   ]
  },
  {
   "cell_type": "code",
   "execution_count": 6,
   "metadata": {},
   "outputs": [
    {
     "name": "stdout",
     "output_type": "stream",
     "text": [
      "TP53 Score: 0.7799295774647887\n",
      "KRAS Score: 0.9448356807511737\n",
      "BRAF Score: 0.9595070422535211\n",
      "CPU times: user 2min 34s, sys: 2.64 s, total: 2min 37s\n",
      "Wall time: 2min 35s\n"
     ]
    }
   ],
   "source": [
    "%%time\n",
    "from sklearn.linear_model import LogisticRegression\n",
    "\n",
    "tp53_model = LogisticRegression(C=1e5)\n",
    "tp53_model.fit(X_train, Y_train.TP53_mutant)\n",
    "print(\"TP53 Score:\", tp53_model.score(X_test, Y_test.TP53_mutant))\n",
    "\n",
    "kras_model = LogisticRegression(C=1e5)\n",
    "kras_model.fit(X_train, Y_train.KRAS_mutant)\n",
    "print(\"KRAS Score:\", kras_model.score(X_test, Y_test.KRAS_mutant))\n",
    "\n",
    "braf_model = LogisticRegression(C=1e5)\n",
    "braf_model.fit(X_train, Y_train.BRAF_mutant)\n",
    "print(\"BRAF Score:\", braf_model.score(X_test, Y_test.BRAF_mutant))"
   ]
  },
  {
   "cell_type": "code",
   "execution_count": 9,
   "metadata": {},
   "outputs": [
    {
     "name": "stdout",
     "output_type": "stream",
     "text": [
      "Disease Score: 0.9565727699530516\n",
      "CPU times: user 5min 28s, sys: 20.5 s, total: 5min 49s\n",
      "Wall time: 5min 41s\n"
     ]
    }
   ],
   "source": [
    "%%time\n",
    "from sklearn.multiclass import OneVsRestClassifier\n",
    "disease_model = OneVsRestClassifier(LogisticRegression()).fit(X_train, Y_train[\"primary.disease.or.tissue\"])\n",
    "print(\"Disease Score:\", disease_model.score(X_test, Y_test[\"primary.disease.or.tissue\"]))"
   ]
  },
  {
   "cell_type": "code",
   "execution_count": 11,
   "metadata": {},
   "outputs": [
    {
     "name": "stdout",
     "output_type": "stream",
     "text": [
      "CPU times: user 3.48 s, sys: 6.79 s, total: 10.3 s\n",
      "Wall time: 1.31 s\n"
     ]
    }
   ],
   "source": [
    "%%time\n",
    "# Write out predictions and actuals and score\n",
    "pd.DataFrame({\n",
    "    \"TumorTypePrediction\": disease_model.predict(X_test),\n",
    "    \"TP53MutationPrediction\": tp53_model.predict(X_test),\n",
    "    \"KRASMutationPrediction\": kras_model.predict(X_test),\n",
    "    \"BRAFMutationPrediction\": braf_model.predict(X_test),\n",
    "}).to_csv(\"test_predictions.tsv\", sep=\"\\t\")\n",
    "\n",
    "pd.DataFrame({\n",
    "    \"primary.disease.or.tissue\": Y_test[\"primary.disease.or.tissue\"],\n",
    "    \"TP53_mutant\": Y_test.TP53_mutant,\n",
    "    \"KRAS_mutant\": Y_test.KRAS_mutant,\n",
    "    \"BRAF_mutant\": Y_test.BRAF_mutant,\n",
    "}).to_csv(\"test_actuals.tsv\", sep=\"\\t\")"
   ]
  },
  {
   "cell_type": "code",
   "execution_count": 16,
   "metadata": {},
   "outputs": [
    {
     "name": "stdout",
     "output_type": "stream",
     "text": [
      "[1] \"Pheochromocytoma & Paraganglioma_F1_score: 0.96875\"\n",
      "[1] \"Cervical & Endocervical Cancer_F1_score: 0.923076923076923\"\n",
      "[1] \"Breast Invasive Carcinoma_F1_score: 0.997555012224939\"\n",
      "[1] \"Lung Adenocarcinoma_F1_score: 0.951219512195122\"\n",
      "[1] \"Lung Squamous Cell Carcinoma_F1_score: 0.91358024691358\"\n",
      "[1] \"Colon Adenocarcinoma_F1_score: 0.865979381443299\"\n",
      "[1] \"Rectum Adenocarcinoma_F1_score: 0.666666666666667\"\n",
      "[1] \"Thyroid Carcinoma_F1_score: 1\"\n",
      "[1] \"Kidney Clear Cell Carcinoma_F1_score: 0.976303317535545\"\n",
      "[1] \"Esophageal Carcinoma_F1_score: 0.891566265060241\"\n",
      "[1] \"Mesothelioma_F1_score: 0.96551724137931\"\n",
      "[1] \"Ovarian Serous Cystadenocarcinoma_F1_score: 0.994011976047904\"\n",
      "[1] \"Prostate Adenocarcinoma_F1_score: 0.994764397905759\"\n",
      "[1] \"Brain Lower Grade Glioma_F1_score: 0.976303317535545\"\n",
      "[1] \"Cholangiocarcinoma_F1_score: 0.533333333333333\"\n",
      "[1] \"Liver Hepatocellular Carcinoma_F1_score: 0.96551724137931\"\n",
      "[1] \"Bladder Urothelial Carcinoma_F1_score: 0.944444444444444\"\n",
      "[1] \"Uterine Carcinosarcoma_F1_score: 0.875\"\n",
      "[1] \"Head & Neck Squamous Cell Carcinoma_F1_score: 0.982658959537572\"\n",
      "[1] \"Sarcoma_F1_score: 0.932038834951456\"\n",
      "[1] \"Glioblastoma Multiforme_F1_score: 0.916666666666667\"\n",
      "[1] \"Kidney Papillary Cell Carcinoma_F1_score: 0.900900900900901\"\n",
      "[1] \"Thymoma_F1_score: 1\"\n",
      "[1] \"Adrenocortical Cancer_F1_score: 0.95\"\n",
      "[1] \"Acute Myeloid Leukemia_F1_score: 1\"\n",
      "[1] \"Skin Cutaneous Melanoma_F1_score: 0.980392156862745\"\n",
      "[1] \"Stomach Adenocarcinoma_F1_score: 0.942307692307692\"\n",
      "[1] \"Uveal Melanoma_F1_score: 1\"\n",
      "[1] \"Kidney Chromophobe_F1_score: 0.777777777777778\"\n",
      "[1] \"Pancreatic Adenocarcinoma_F1_score: 0.981818181818182\"\n",
      "[1] \"Uterine Corpus Endometrioid Carcinoma_F1_score: 0.92\"\n",
      "[1] \"Testicular Germ Cell Tumor_F1_score: 0.980392156862745\"\n",
      "[1] \"Diffuse Large B-Cell Lymphoma_F1_score: 1\"\n",
      "[1] \"Overall Tissue F1 score: 0.932414361291669\"\n",
      "[1] \"TP53_F1_score: 0.663072776280324\"\n",
      "[1] \"KRAS_F1_score: 0.53921568627451\"\n",
      "[1] \"BRAF_F1_score: 0.690582959641256\"\n",
      "[1] \"Mutation_F1_score: 0.632437466674075\"\n",
      "[1] \"Final_F1_score: 0.78251187815514\"\n"
     ]
    }
   ],
   "source": [
    "# Score our test predictions against actuals\n",
    "!Rscript class/BME230_F1score_V2.R test_predictions.tsv test_actuals.tsv"
   ]
  },
  {
   "cell_type": "code",
   "execution_count": 13,
   "metadata": {},
   "outputs": [
    {
     "name": "stdout",
     "output_type": "stream",
     "text": [
      "CPU times: user 4.5 s, sys: 7.61 s, total: 12.1 s\n",
      "Wall time: 1.94 s\n"
     ]
    }
   ],
   "source": [
    "%%time\n",
    "# Predict on the holdout set for the competition and write out for the leaderboard\n",
    "X_holdout = pd.read_hdf(\"data/tcga_mutation_test_unlabeled.h5\", \"expression\")\n",
    "X_holdout_pruned = X_holdout.drop(labels=(set(X_holdout.columns) - set(genes_subset)), axis=1, errors=\"ignore\")\n",
    "\n",
    "pd.DataFrame({\n",
    "    \"TumorTypePrediction\": disease_model.predict(X_holdout_pruned),\n",
    "    \"TP53MutationPrediction\": tp53_model.predict(X_holdout_pruned),\n",
    "    \"KRASMutationPrediction\": kras_model.predict(X_holdout_pruned),\n",
    "    \"BRAFMutationPrediction\": braf_model.predict(X_holdout_pruned),\n",
    "}).to_csv(\"predictions.tsv\", sep=\"\\t\")"
   ]
  }
 ],
 "metadata": {
  "kernelspec": {
   "display_name": "Python 3",
   "language": "python",
   "name": "python3"
  },
  "language_info": {
   "codemirror_mode": {
    "name": "ipython",
    "version": 3
   },
   "file_extension": ".py",
   "mimetype": "text/x-python",
   "name": "python",
   "nbconvert_exporter": "python",
   "pygments_lexer": "ipython3",
   "version": "3.6.3"
  }
 },
 "nbformat": 4,
 "nbformat_minor": 2
}
